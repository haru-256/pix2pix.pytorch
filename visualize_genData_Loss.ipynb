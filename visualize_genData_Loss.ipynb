{
 "cells": [
  {
   "cell_type": "code",
   "execution_count": 167,
   "metadata": {},
   "outputs": [],
   "source": [
    "import random\n",
    "import json\n",
    "import pathlib\n",
    "import torch\n",
    "from torch.utils.data import DataLoader\n",
    "from torchvision.utils import make_grid\n",
    "import matplotlib.pyplot as plt\n",
    "plt.style.use('seaborn-white')\n",
    "import pandas as pd\n",
    "import numpy as np\n",
    "from tqdm import tqdm_notebook as tqdm\n",
    "from net import UnetGenerator\n",
    "from argparse import Namespace\n",
    "from torchvision import datasets\n",
    "from utils import ABImageDataset, ToTensorTwoIMG, Normalize, ComposeTwoIMG, SplitImage\n",
    "import cv2"
   ]
  },
  {
   "cell_type": "code",
   "execution_count": 145,
   "metadata": {},
   "outputs": [],
   "source": [
    "number=1\n",
    "seeds=list(range(1, 6))\n",
    "data_name='edges2shoes'"
   ]
  },
  {
   "cell_type": "code",
   "execution_count": 146,
   "metadata": {},
   "outputs": [],
   "source": [
    "result_path = [\n",
    "    pathlib.Path('/Users/yohei/MyDrive/tlab/pix2pix.pytorch/{0}/'\n",
    "                 'result_{1}/result_{1}_{2}'.format(data_name, number, seed))\n",
    "    for seed in seeds\n",
    "]\n",
    "data_path = pathlib.Path(\n",
    "    '/Users/yohei/MyDrive/tlab/pix2pix.pytorch/{0}/'.format(data_name))\n",
    "model_path = [i / 'model' for i in result_path]\n",
    "log_path = [i / 'log.json' for i in result_path]\n",
    "arg_path = [i / 'args.txt' for i in result_path]\n",
    "train_data_path = data_path / 'train_data'\n",
    "val_data_path = data_path / 'validation_data'"
   ]
  },
  {
   "cell_type": "markdown",
   "metadata": {},
   "source": [
    "# ロスの推移"
   ]
  },
  {
   "cell_type": "code",
   "execution_count": 57,
   "metadata": {},
   "outputs": [
    {
     "data": {
      "text/html": [
       "<div>\n",
       "<style scoped>\n",
       "    .dataframe tbody tr th:only-of-type {\n",
       "        vertical-align: middle;\n",
       "    }\n",
       "\n",
       "    .dataframe tbody tr th {\n",
       "        vertical-align: top;\n",
       "    }\n",
       "\n",
       "    .dataframe thead th {\n",
       "        text-align: right;\n",
       "    }\n",
       "</style>\n",
       "<table border=\"1\" class=\"dataframe\">\n",
       "  <thead>\n",
       "    <tr style=\"text-align: right;\">\n",
       "      <th></th>\n",
       "      <th>epoch</th>\n",
       "      <th>train_dis_loss</th>\n",
       "      <th>train_gen_loss</th>\n",
       "      <th>seed</th>\n",
       "    </tr>\n",
       "  </thead>\n",
       "  <tbody>\n",
       "    <tr>\n",
       "      <th>0</th>\n",
       "      <td>epoch_1</td>\n",
       "      <td>0.231265</td>\n",
       "      <td>20.459302</td>\n",
       "      <td>1</td>\n",
       "    </tr>\n",
       "    <tr>\n",
       "      <th>1</th>\n",
       "      <td>epoch_2</td>\n",
       "      <td>0.071365</td>\n",
       "      <td>20.668025</td>\n",
       "      <td>1</td>\n",
       "    </tr>\n",
       "    <tr>\n",
       "      <th>2</th>\n",
       "      <td>epoch_3</td>\n",
       "      <td>0.059974</td>\n",
       "      <td>20.495820</td>\n",
       "      <td>1</td>\n",
       "    </tr>\n",
       "    <tr>\n",
       "      <th>3</th>\n",
       "      <td>epoch_4</td>\n",
       "      <td>0.049893</td>\n",
       "      <td>20.738579</td>\n",
       "      <td>1</td>\n",
       "    </tr>\n",
       "    <tr>\n",
       "      <th>4</th>\n",
       "      <td>epoch_5</td>\n",
       "      <td>0.033204</td>\n",
       "      <td>21.726119</td>\n",
       "      <td>1</td>\n",
       "    </tr>\n",
       "  </tbody>\n",
       "</table>\n",
       "</div>"
      ],
      "text/plain": [
       "     epoch  train_dis_loss  train_gen_loss  seed\n",
       "0  epoch_1        0.231265       20.459302     1\n",
       "1  epoch_2        0.071365       20.668025     1\n",
       "2  epoch_3        0.059974       20.495820     1\n",
       "3  epoch_4        0.049893       20.738579     1\n",
       "4  epoch_5        0.033204       21.726119     1"
      ]
     },
     "execution_count": 57,
     "metadata": {},
     "output_type": "execute_result"
    }
   ],
   "source": [
    "df = pd.read_json(log_path[0]).T\n",
    "df = df.reset_index()\n",
    "df.columns = ['epoch', 'train_dis_loss', 'train_gen_loss']\n",
    "df['seed'] = np.full(len(df), fill_value=seeds[0])\n",
    "for path, seed in zip(log_path[1:], seeds[1:]):\n",
    "    hoge = pd.read_json(path).T\n",
    "    hoge = hoge.reset_index()\n",
    "    hoge.columns = ['epoch', 'train_dis_loss', 'train_gen_loss']\n",
    "    hoge['seed'] = np.full(len(hoge), fill_value=seed)\n",
    "    df = pd.concat([df, hoge], axis=0)\n",
    "df_pre = df.set_index(['epoch', 'seed'])\n",
    "df_pre.head()"
   ]
  },
  {
   "cell_type": "code",
   "execution_count": 88,
   "metadata": {},
   "outputs": [
    {
     "data": {
      "text/html": [
       "<div>\n",
       "<style scoped>\n",
       "    .dataframe tbody tr th:only-of-type {\n",
       "        vertical-align: middle;\n",
       "    }\n",
       "\n",
       "    .dataframe tbody tr th {\n",
       "        vertical-align: top;\n",
       "    }\n",
       "\n",
       "    .dataframe thead th {\n",
       "        text-align: right;\n",
       "    }\n",
       "</style>\n",
       "<table border=\"1\" class=\"dataframe\">\n",
       "  <thead>\n",
       "    <tr style=\"text-align: right;\">\n",
       "      <th></th>\n",
       "      <th>train_dis_loss</th>\n",
       "      <th>train_gen_loss</th>\n",
       "    </tr>\n",
       "    <tr>\n",
       "      <th>epoch</th>\n",
       "      <th></th>\n",
       "      <th></th>\n",
       "    </tr>\n",
       "  </thead>\n",
       "  <tbody>\n",
       "    <tr>\n",
       "      <th>epoch_1</th>\n",
       "      <td>0.024921</td>\n",
       "      <td>0.222497</td>\n",
       "    </tr>\n",
       "    <tr>\n",
       "      <th>epoch_2</th>\n",
       "      <td>0.002315</td>\n",
       "      <td>0.106926</td>\n",
       "    </tr>\n",
       "    <tr>\n",
       "      <th>epoch_3</th>\n",
       "      <td>0.003793</td>\n",
       "      <td>0.187302</td>\n",
       "    </tr>\n",
       "    <tr>\n",
       "      <th>epoch_4</th>\n",
       "      <td>0.001485</td>\n",
       "      <td>0.226051</td>\n",
       "    </tr>\n",
       "    <tr>\n",
       "      <th>epoch_5</th>\n",
       "      <td>0.004126</td>\n",
       "      <td>0.336409</td>\n",
       "    </tr>\n",
       "  </tbody>\n",
       "</table>\n",
       "</div>"
      ],
      "text/plain": [
       "         train_dis_loss  train_gen_loss\n",
       "epoch                                  \n",
       "epoch_1        0.024921        0.222497\n",
       "epoch_2        0.002315        0.106926\n",
       "epoch_3        0.003793        0.187302\n",
       "epoch_4        0.001485        0.226051\n",
       "epoch_5        0.004126        0.336409"
      ]
     },
     "execution_count": 88,
     "metadata": {},
     "output_type": "execute_result"
    }
   ],
   "source": [
    "df_mean = df_pre.mean(level=0, axis=0)\n",
    "df_std = df_pre.std(level=0, axis=0)\n",
    "\n",
    "dis_loss_mean = np.array([mean[1]['train_dis_loss'] for mean in df_mean.iterrows()])\n",
    "gen_loss_mean = np.array([mean[1]['train_gen_loss'] for mean in df_mean.iterrows()])\n",
    "dis_loss_std = np.array([std[1]['train_dis_loss'] for std in df_std.iterrows()])\n",
    "gen_loss_std = np.array([std[1]['train_gen_loss'] for std in df_std.iterrows()])"
   ]
  },
  {
   "cell_type": "code",
   "execution_count": 140,
   "metadata": {
    "code_folding": []
   },
   "outputs": [
    {
     "data": {
      "image/png": "[encoded data removed]",
      "text/plain": [
       "<Figure size 720x432 with 2 Axes>"
      ]
     },
     "metadata": {},
     "output_type": "display_data"
    }
   ],
   "source": [
    "fig, ax = plt.subplots(1, 1, figsize=(10, 6))\n",
    "ax.set_xlim([-0.8, 15])\n",
    "line_1 = ax.plot(\n",
    "    gen_loss_mean, label='gen loss', c=\"tab:red\", marker='o', ms=8)\n",
    "ax.fill_between(\n",
    "    range(15),\n",
    "    gen_loss_mean + gen_loss_std,\n",
    "    gen_loss_mean - gen_loss_std,\n",
    "    alpha=0.12, color=\"tab:red\")\n",
    "ax.grid(axis=\"x\")\n",
    "ax2 = ax.twinx()\n",
    "line_2 = ax2.plot(\n",
    "    dis_loss_mean, label='dis loss', c=\"mediumblue\", marker='x', ms=10)\n",
    "ax2.fill_between(\n",
    "    range(15),\n",
    "    dis_loss_mean + dis_loss_std,\n",
    "    dis_loss_mean - dis_loss_std,\n",
    "    alpha=0.12, color=\"blue\")\n",
    "fig.legend(\n",
    "    loc='upper right',\n",
    "    bbox_to_anchor=(1, 0.4),\n",
    "    bbox_transform=ax.transAxes,\n",
    "    frameon=True,\n",
    "    shadow=True,\n",
    "    fontsize=17)\n",
    "ax.tick_params(labelsize=13)\n",
    "ax2.tick_params(labelsize=13)\n",
    "ax.set_xticklabels([2 * i + 1 for i in range(-1, 8)])\n",
    "ax.set_xlabel(\"epoch\", fontsize=18, labelpad=13)\n",
    "ax.set_ylabel(\"Gen Loss\", fontsize=18, labelpad=13)\n",
    "ax2.set_ylabel(\"Dis Loss\", fontsize=18, labelpad=13)\n",
    "\n",
    "plt.tight_layout()\n",
    "fig.savefig(\n",
    "    result_path[0].parent / \"loss_{}.png\".format(number),\n",
    "    dpi=300,\n",
    "    bbox_inches='tight',\n",
    "    pad_inches=0.1)"
   ]
  },
  {
   "cell_type": "markdown",
   "metadata": {},
   "source": [
    "# 生成データの可視化"
   ]
  },
  {
   "cell_type": "code",
   "execution_count": 147,
   "metadata": {},
   "outputs": [],
   "source": [
    "seed = 0"
   ]
  },
  {
   "cell_type": "code",
   "execution_count": 148,
   "metadata": {},
   "outputs": [
    {
     "name": "stdout",
     "output_type": "stream",
     "text": [
      "Namespace(batch_size=4, dataset='edges2shoes', epoch=15, gpu=0, lambda_L1=100.0, mean=0.5, ndf=64, ngf=64, norm_type='batch', num_workers=4, number=1, seed=1, std=0.5, val_size=16, version=False)\n"
     ]
    }
   ],
   "source": [
    "with open(arg_path[0]) as f:\n",
    "    opt = eval(f.read())\n",
    "print(opt)"
   ]
  },
  {
   "cell_type": "code",
   "execution_count": 150,
   "metadata": {},
   "outputs": [],
   "source": [
    "# load Generator\n",
    "epoch = 15\n",
    "checkpoint = torch.load(\n",
    "    model_path[0] / 'pix2pix_{}epoch.tar'.format(epoch), map_location=\"cpu\")\n",
    "gen = UnetGenerator(norm_type=opt.norm_type, ngf=opt.ngf)\n",
    "gen.load_state_dict(checkpoint['gen_model_state_dict'])"
   ]
  },
  {
   "cell_type": "code",
   "execution_count": 151,
   "metadata": {
    "scrolled": true
   },
   "outputs": [
    {
     "data": {
      "text/plain": [
       "{'train': <torch.utils.data.dataloader.DataLoader at 0x117c90cc0>,\n",
       " 'val': <torch.utils.data.dataloader.DataLoader at 0x11aa7fef0>}"
      ]
     },
     "execution_count": 151,
     "metadata": {},
     "output_type": "execute_result"
    }
   ],
   "source": [
    "# load dataset\n",
    "transform = {\n",
    "    'train': ComposeTwoIMG([ToTensorTwoIMG()]),\n",
    "    'val': ComposeTwoIMG([ToTensorTwoIMG()])\n",
    "}\n",
    "mean = [opt.mean, opt.mean, opt.mean]\n",
    "std = [opt.std, opt.std, opt.std]\n",
    "\n",
    "datasets = {\n",
    "    'train':\n",
    "    ABImageDataset(\n",
    "        root=train_data_path,\n",
    "        transform=transform['train'],\n",
    "        normalizer=Normalize(mean, std),\n",
    "        spliter=SplitImage(right_is_A=False)),\n",
    "    'val':\n",
    "    ABImageDataset(\n",
    "        root=val_data_path,\n",
    "        transform=transform['val'],\n",
    "        val_size=opt.val_size,\n",
    "        normalizer=Normalize(mean, std),\n",
    "        spliter=SplitImage(right_is_A=False))\n",
    "}\n",
    "\n",
    "data_loader = {\n",
    "    phase: DataLoader(\n",
    "        datasets[phase],\n",
    "        batch_size=len(datasets[phase]),\n",
    "        shuffle=False,\n",
    "        num_workers=0)\n",
    "    for phase in ['train', 'val']\n",
    "}\n",
    "\n",
    "data_loader"
   ]
  },
  {
   "cell_type": "markdown",
   "metadata": {},
   "source": [
    "## Visualize Generating Image for Training Data"
   ]
  },
  {
   "cell_type": "code",
   "execution_count": 194,
   "metadata": {
    "scrolled": false
   },
   "outputs": [],
   "source": [
    "for path in tqdm(result_path, desc=\"seed\"):\n",
    "    save_dir = path / \"train_gen_img\"\n",
    "    if not save_dir.exists():\n",
    "        save_dir.mkdir()\n",
    "    for epoch in tqdm(range(1, 16), desc=\"epoch\"):\n",
    "        # load arguments\n",
    "        with open(path / 'args.txt') as f:\n",
    "            opt = eval(f.read())\n",
    "        # load Generator\n",
    "        checkpoint = torch.load(\n",
    "            (path / 'model') / 'pix2pix_{}epoch.tar'.format(epoch), map_location=\"cpu\")\n",
    "        gen = UnetGenerator(norm_type=opt.norm_type, ngf=opt.ngf)\n",
    "        gen.load_state_dict(checkpoint['gen_model_state_dict'])\n",
    "\n",
    "            \n",
    "        torch.manual_seed(0)  # set seed\n",
    "        gen.train()  # apply Dropout and BatchNorm during inference as well\n",
    "        fig, ax = plt.subplots(1,1, figsize=(10, 13))\n",
    "        with torch.no_grad():\n",
    "            for inputs, _ in data_loader['train']:\n",
    "                fake_outputs = gen(inputs)\n",
    "        images = make_grid(fake_outputs, normalize=False, nrow=4, padding=1)\n",
    "        images = images * 0.5 + 0.5\n",
    "        ax.imshow(images.numpy().transpose(1, 2, 0))\n",
    "        ax.axis(\"off\")\n",
    "        ax.set_title(\"Epoch: {}\".format(epoch), fontsize=27)\n",
    "        plt.tight_layout()\n",
    "        fig.savefig(save_dir / \"epoch{:0>4}.png\".format(epoch),\n",
    "                bbox_inches=\"tight\", pad_inches=0.05, dpi=300)\n",
    "        plt.close(fig)"
   ]
  },
  {
   "cell_type": "markdown",
   "metadata": {},
   "source": [
    "## Visualize Generating Image for Validation Data"
   ]
  },
  {
   "cell_type": "code",
   "execution_count": null,
   "metadata": {},
   "outputs": [],
   "source": [
    "for path in tqdm(result_path, desc=\"seed\"):\n",
    "    save_dir = path / \"val_gen_img\"\n",
    "    if not save_dir.exists():\n",
    "        save_dir.mkdir()\n",
    "    for epoch in tqdm(range(1, 16), desc=\"epoch\"):\n",
    "        # load arguments\n",
    "        with open(path / 'args.txt') as f:\n",
    "            opt = eval(f.read())\n",
    "        # load Generator\n",
    "        checkpoint = torch.load(\n",
    "            (path / 'model') / 'pix2pix_{}epoch.tar'.format(epoch), map_location=\"cpu\")\n",
    "        gen = UnetGenerator(norm_type=opt.norm_type, ngf=opt.ngf)\n",
    "        gen.load_state_dict(checkpoint['gen_model_state_dict'])\n",
    "\n",
    "            \n",
    "        torch.manual_seed(0)  # set seed\n",
    "        gen.train()  # apply Dropout and BatchNorm during inference as well\n",
    "        fig, ax = plt.subplots(1,1, figsize=(10, 13))\n",
    "        with torch.no_grad():\n",
    "            for inputs, _ in data_loader['val']:\n",
    "                fake_outputs = gen(inputs)\n",
    "        images = make_grid(fake_outputs, normalize=False, nrow=4, padding=1)\n",
    "        images = images * 0.5 + 0.5\n",
    "        ax.imshow(images.numpy().transpose(1, 2, 0))\n",
    "        ax.axis(\"off\")\n",
    "        ax.set_title(\"Epoch: {}\".format(epoch), fontsize=27)\n",
    "        plt.tight_layout()\n",
    "        fig.savefig(save_dir / \"epoch{:0>4}.png\".format(epoch),\n",
    "                bbox_inches=\"tight\", pad_inches=0.05, dpi=300)\n",
    "        plt.close(fig)"
   ]
  },
  {
   "cell_type": "code",
   "execution_count": null,
   "metadata": {},
   "outputs": [],
   "source": []
  },
  {
   "cell_type": "code",
   "execution_count": null,
   "metadata": {},
   "outputs": [],
   "source": []
  }
 ],
 "metadata": {
  "kernelspec": {
   "display_name": "Python 3",
   "language": "python",
   "name": "python3"
  },
  "language_info": {
   "codemirror_mode": {
    "name": "ipython",
    "version": 3
   },
   "file_extension": ".py",
   "mimetype": "text/x-python",
   "name": "python",
   "nbconvert_exporter": "python",
   "pygments_lexer": "ipython3",
   "version": "3.6.5"
  },
  "toc": {
   "base_numbering": 1,
   "nav_menu": {},
   "number_sections": true,
   "sideBar": true,
   "skip_h1_title": false,
   "title_cell": "Table of Contents",
   "title_sidebar": "Contents",
   "toc_cell": false,
   "toc_position": {},
   "toc_section_display": true,
   "toc_window_display": false
  }
 },
 "nbformat": 4,
 "nbformat_minor": 2
}
