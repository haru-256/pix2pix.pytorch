{
 "cells": [
  {
   "cell_type": "markdown",
   "metadata": {},
   "source": [
    "# debug"
   ]
  },
  {
   "cell_type": "code",
   "execution_count": 1,
   "metadata": {
    "ExecuteTime": {
     "end_time": "2019-10-07T04:19:11.099517Z",
     "start_time": "2019-10-07T04:19:11.086698Z"
    }
   },
   "outputs": [],
   "source": [
    "%load_ext autoreload"
   ]
  },
  {
   "cell_type": "code",
   "execution_count": 2,
   "metadata": {
    "ExecuteTime": {
     "end_time": "2019-10-07T04:19:13.331419Z",
     "start_time": "2019-10-07T04:19:11.448927Z"
    }
   },
   "outputs": [],
   "source": [
    "%autoreload\n",
    "import pathlib\n",
    "import random\n",
    "import numpy as np\n",
    "import torch\n",
    "from options.train_options import TrainOptions\n",
    "from data.abImageDataset import ABImageDataset\n",
    "from torch.utils.data import DataLoader\n",
    "from utils.training import Trainer, Updater\n",
    "from models.pix2pix_model import Pix2PixModel\n",
    "\n",
    "import matplotlib.pyplot as plt"
   ]
  },
  {
   "cell_type": "code",
   "execution_count": 3,
   "metadata": {
    "ExecuteTime": {
     "end_time": "2019-10-07T04:19:13.379732Z",
     "start_time": "2019-10-07T04:19:13.333446Z"
    }
   },
   "outputs": [
    {
     "name": "stdout",
     "output_type": "stream",
     "text": [
      "init checkpoints_dir: /mnt/hdd/data/pix2pix/result_dir/edges2shoes/result_1/result_1_1\n",
      "----------------- Options ---------------\n",
      "                     A_nc: 3                             \n",
      "                     B_nc: 3                             \n",
      "               batch_size: 1                             \t[default: 4]\n",
      "                    beta1: 0.5                           \n",
      "          checkpoints_dir: /mnt/hdd/data/pix2pix/result_dir/edges2shoes/result_1/result_1_1\t[default: None]\n",
      "                coeff4dis: 1.0                           \n",
      "                 cropSize: 256                           \n",
      "                 dataroot: /mnt/data/pix2pix/edges2shoes/dataframe\t[default: None]\n",
      "                   device: cuda:0                        \t[default: None]\n",
      "                    epoch: 10                            \t[default: 15]\n",
      "                   flip_p: False                         \n",
      "                 gan_mode: vanilla                       \n",
      "                   gpu_id: 0                             \n",
      "                image_dir: /mnt/hdd/data/pix2pix/result_dir/edges2shoes/result_1/result_1_1/gen_images\t[default: None]\n",
      "               img_height: 256                           \n",
      "                img_width: 256                           \n",
      "                init_gain: 0.02                          \n",
      "                init_type: normal                        \n",
      "                   interA: nearest                       \n",
      "                   interB: bicubic                       \n",
      "                lambda_l1: 100.0                         \n",
      "                  log_dir: /mnt/hdd/data/pix2pix/result_dir/edges2shoes/result_1/result_1_1/log\t[default: None]\n",
      "                       lr: 0.0002                        \n",
      "                    meanA: 0.5                           \n",
      "                    meanB: 0.5                           \n",
      "                model_dir: /mnt/hdd/data/pix2pix/result_dir/edges2shoes/result_1/result_1_1/models\t[default: None]\n",
      "                 nThreads: 3                             \n",
      "                  n_downG: 8                             \n",
      "                n_layersD: 3                             \n",
      "                     name: edges2shoes                   \n",
      "                      ndf: 64                            \n",
      "                      ngf: 64                            \n",
      "                no_affine: False                         \n",
      "               no_dropout: False                         \n",
      "                  no_flip: 0.5                           \n",
      "                no_l1loss: False                         \n",
      "                    normA: True                          \t[default: False]\n",
      "                    normB: True                          \t[default: False]\n",
      "                norm_type: instance                      \n",
      "                      num: 1                             \t[default: None]\n",
      "                       nz: 8                             \n",
      "               preprocess: none                          \n",
      "                 save_dir: /mnt/data/pix2pix/result_dir/ \t[default: None]\n",
      "                save_freq: 1                             \n",
      "                scaleSize: 286                           \n",
      "                     seed: 1                             \t[default: None]\n",
      "                     stdA: 0.5                           \n",
      "                     stdB: 0.5                           \n",
      "                  verbose: False                         \n",
      "                  vis_num: 16                            \n",
      "----------------- End -------------------\n"
     ]
    }
   ],
   "source": [
    "%run debug.py -n 1 -s 1 --epoch 10 --name edges2shoes --batch_size 1 --normA --normB --preprocess none --dataroot /mnt/data/pix2pix/edges2shoes/dataframe --save_dir /mnt/data/pix2pix/result_dir/"
   ]
  },
  {
   "cell_type": "code",
   "execution_count": 4,
   "metadata": {
    "ExecuteTime": {
     "end_time": "2019-10-07T04:19:13.463022Z",
     "start_time": "2019-10-07T04:19:13.382019Z"
    }
   },
   "outputs": [],
   "source": [
    "# seedの固定\n",
    "random.seed(opt.seed)\n",
    "np.random.seed(opt.seed)\n",
    "torch.manual_seed(opt.seed)\n",
    "if opt.device != torch.device(\"cpu\"):\n",
    "    torch.cuda.manual_seed(opt.seed)"
   ]
  },
  {
   "cell_type": "code",
   "execution_count": 5,
   "metadata": {
    "ExecuteTime": {
     "end_time": "2019-10-07T04:19:15.955015Z",
     "start_time": "2019-10-07T04:19:15.945567Z"
    }
   },
   "outputs": [
    {
     "name": "stdout",
     "output_type": "stream",
     "text": [
      "Train Dataset Path : /mnt/hdd/data/pix2pix/edges2shoes/dataframe/train_df.csv\n",
      "Val Dataset Path : /mnt/hdd/data/pix2pix/edges2shoes/dataframe/val_df.csv\n"
     ]
    }
   ],
   "source": [
    "# データ\n",
    "# data path\n",
    "dataroot = pathlib.Path(opt.dataroot)\n",
    "trainData_path = (dataroot / \"train_df.csv\").resolve()\n",
    "valData_path = (dataroot / \"val_df.csv\").resolve()\n",
    "print(\"Train Dataset Path :\", trainData_path)\n",
    "print(\"Val Dataset Path :\", valData_path)"
   ]
  },
  {
   "cell_type": "code",
   "execution_count": 6,
   "metadata": {
    "ExecuteTime": {
     "end_time": "2019-10-07T04:19:16.542358Z",
     "start_time": "2019-10-07T04:19:16.343461Z"
    }
   },
   "outputs": [
    {
     "name": "stdout",
     "output_type": "stream",
     "text": [
      "Train Dataset Size : 10\n"
     ]
    }
   ],
   "source": [
    "# dataset\n",
    "tmp = opt.vis_num\n",
    "opt.vis_num = opt.batch_size * 10\n",
    "train_dataset = ABImageDataset(df_path=trainData_path, opt=opt, vis=True)\n",
    "opt.vis_num = tmp\n",
    "train4vis_dataset = ABImageDataset(\n",
    "    df_path=trainData_path, opt=opt, mode_inference=True, vis=True\n",
    ")\n",
    "val4vis_dataset = ABImageDataset(\n",
    "    df_path=valData_path, opt=opt, mode_inference=True, vis=True\n",
    ")\n",
    "print(\"Train Dataset Size : {}\".format(len(train_dataset)))"
   ]
  },
  {
   "cell_type": "code",
   "execution_count": 7,
   "metadata": {
    "ExecuteTime": {
     "end_time": "2019-10-07T04:19:17.767436Z",
     "start_time": "2019-10-07T04:19:17.757597Z"
    }
   },
   "outputs": [],
   "source": [
    "# dataloader\n",
    "# dataloader for leaning\n",
    "train_dataloader = DataLoader(\n",
    "    dataset=train_dataset,\n",
    "    batch_size=opt.batch_size,\n",
    "    shuffle=False, # for debug\n",
    "    num_workers=opt.nThreads,\n",
    ")\n",
    "\n",
    "# dataloader for visuzlizing\n",
    "train4vis_dataloader = DataLoader(\n",
    "    dataset=train4vis_dataset,\n",
    "    batch_size=len(train4vis_dataset),\n",
    "    shuffle=False,\n",
    "    num_workers=opt.nThreads,\n",
    ")\n",
    "val4vis_dataloader = DataLoader(\n",
    "    dataset=val4vis_dataset,\n",
    "    batch_size=len(train4vis_dataset),\n",
    "    shuffle=False,\n",
    "    num_workers=opt.nThreads,\n",
    ")\n",
    "dataloaders4vis = {\"train\": train4vis_dataloader, \"val\": val4vis_dataloader}"
   ]
  },
  {
   "cell_type": "code",
   "execution_count": 8,
   "metadata": {
    "ExecuteTime": {
     "end_time": "2019-10-07T04:19:19.961792Z",
     "start_time": "2019-10-07T04:19:19.773394Z"
    }
   },
   "outputs": [],
   "source": [
    "# data の確認\n",
    "data_dict = next(iter(train_dataloader))"
   ]
  },
  {
   "cell_type": "code",
   "execution_count": null,
   "metadata": {
    "ExecuteTime": {
     "end_time": "2019-10-07T04:17:56.690678Z",
     "start_time": "2019-10-07T04:17:54.742211Z"
    }
   },
   "outputs": [],
   "source": [
    "# 本物画像の保存\n",
    "import math\n",
    "import torchvision\n",
    "plt.style.use(\"seaborn-white\")\n",
    "phase = \"train\"\n",
    "for phase in [\"train\", \"val\"]:\n",
    "    data_dict = next(iter(dataloaders4vis[phase]))\n",
    "    total = opt.vis_num\n",
    "    ncol = int(math.sqrt(total))\n",
    "    nrow = math.ceil(float(total) / ncol)\n",
    "    A = torchvision.utils.make_grid(data_dict[\"A\"],\n",
    "                                    normalize=False,\n",
    "                                    nrow=nrow,\n",
    "                                    padding=0)\n",
    "    A = A * opt.stdA + opt.meanA\n",
    "    B = torchvision.utils.make_grid(data_dict[\"B\"],\n",
    "                                    normalize=False,\n",
    "                                    nrow=nrow,\n",
    "                                    padding=0)\n",
    "    B = B * opt.stdB + opt.meanB\n",
    "    fig, ax = plt.subplots(1, 2, figsize=(12, 6))\n",
    "    ax[0].imshow(A.permute(1, 2, 0))\n",
    "    ax[0].set_axis_off()\n",
    "    ax[1].imshow(B.permute(1, 2, 0))\n",
    "    ax[1].set_axis_off()\n",
    "    fig.subplots_adjust(wspace=0, hspace=0)\n",
    "    fig.savefig(opt.image_dir / \"{}_example.png\".format(phase),\n",
    "                 bbox_inches=\"tight\",\n",
    "                 pad_inches=0)"
   ]
  },
  {
   "cell_type": "code",
   "execution_count": null,
   "metadata": {
    "ExecuteTime": {
     "end_time": "2019-10-07T04:17:56.695951Z",
     "start_time": "2019-10-07T04:17:56.692426Z"
    }
   },
   "outputs": [],
   "source": [
    "train_dataset.transformer"
   ]
  },
  {
   "cell_type": "code",
   "execution_count": null,
   "metadata": {
    "ExecuteTime": {
     "end_time": "2019-10-07T04:17:56.766973Z",
     "start_time": "2019-10-07T04:17:56.697073Z"
    }
   },
   "outputs": [],
   "source": [
    "train4vis_dataset.transformer"
   ]
  },
  {
   "cell_type": "code",
   "execution_count": null,
   "metadata": {
    "ExecuteTime": {
     "end_time": "2019-10-07T04:17:56.851702Z",
     "start_time": "2019-10-07T04:17:56.768749Z"
    },
    "scrolled": true
   },
   "outputs": [],
   "source": [
    "val4vis_dataset.transformer"
   ]
  },
  {
   "cell_type": "code",
   "execution_count": null,
   "metadata": {
    "ExecuteTime": {
     "end_time": "2019-10-07T04:17:57.563893Z",
     "start_time": "2019-10-07T04:17:56.854133Z"
    }
   },
   "outputs": [],
   "source": [
    "plt.style.use(\"seaborn-whitegrid\")\n",
    "data_dict = next(iter(train_dataloader))\n",
    "fig, ax = plt.subplots(1, 2, figsize=(20, 10))\n",
    "A = data_dict[\"A\"][0].permute(1, 2, 0) * opt.stdA + opt.meanA\n",
    "B = data_dict[\"B\"][0].permute(1, 2, 0) * opt.stdB + opt.meanB\n",
    "ax[0].imshow(A)\n",
    "ax[1].imshow(B)"
   ]
  },
  {
   "cell_type": "code",
   "execution_count": null,
   "metadata": {
    "ExecuteTime": {
     "end_time": "2019-10-07T04:17:58.291466Z",
     "start_time": "2019-10-07T04:17:57.565522Z"
    }
   },
   "outputs": [],
   "source": [
    "plt.style.use(\"seaborn-whitegrid\")\n",
    "data_dict = next(iter(dataloaders4vis[\"train\"]))\n",
    "fig, ax = plt.subplots(1, 2, figsize=(20, 10))\n",
    "A = data_dict[\"A\"][0].permute(1, 2, 0) * opt.stdA + opt.meanA\n",
    "B = data_dict[\"B\"][0].permute(1, 2, 0) * opt.stdB + opt.meanB\n",
    "ax[0].imshow(A)\n",
    "ax[1].imshow(B)"
   ]
  },
  {
   "cell_type": "code",
   "execution_count": null,
   "metadata": {
    "ExecuteTime": {
     "end_time": "2019-10-07T04:17:59.002635Z",
     "start_time": "2019-10-07T04:17:58.293119Z"
    }
   },
   "outputs": [],
   "source": [
    "plt.style.use(\"seaborn-whitegrid\")\n",
    "data_dict = next(iter(dataloaders4vis[\"val\"]))\n",
    "fig, ax = plt.subplots(1, 2, figsize=(20, 10))\n",
    "A = data_dict[\"A\"][0].permute(1, 2, 0) * opt.stdA + opt.meanA\n",
    "B = data_dict[\"B\"][0].permute(1, 2, 0) * opt.stdB + opt.meanB\n",
    "ax[0].imshow(A)\n",
    "ax[1].imshow(B)"
   ]
  },
  {
   "cell_type": "code",
   "execution_count": null,
   "metadata": {
    "ExecuteTime": {
     "end_time": "2019-10-07T04:18:03.207713Z",
     "start_time": "2019-10-07T04:17:59.004089Z"
    },
    "scrolled": true
   },
   "outputs": [],
   "source": [
    "# model 構築\n",
    "model = Pix2PixModel(opt)"
   ]
  },
  {
   "cell_type": "code",
   "execution_count": null,
   "metadata": {
    "ExecuteTime": {
     "end_time": "2019-10-07T04:18:03.212109Z",
     "start_time": "2019-10-07T04:18:03.209316Z"
    }
   },
   "outputs": [],
   "source": [
    "# updater\n",
    "updater = Updater(train_dataloader=train_dataloader, model=model, opt=opt)"
   ]
  },
  {
   "cell_type": "code",
   "execution_count": null,
   "metadata": {
    "ExecuteTime": {
     "end_time": "2019-10-07T04:18:03.292527Z",
     "start_time": "2019-10-07T04:18:03.216420Z"
    }
   },
   "outputs": [],
   "source": [
    "# trainer\n",
    "trainer = Trainer(updater, opt, dataloaders4vis)"
   ]
  },
  {
   "cell_type": "code",
   "execution_count": null,
   "metadata": {
    "ExecuteTime": {
     "end_time": "2019-10-07T04:18:38.000407Z",
     "start_time": "2019-10-07T04:18:03.295826Z"
    }
   },
   "outputs": [],
   "source": [
    "# run\n",
    "trainer.run()"
   ]
  }
 ],
 "metadata": {
  "kernelspec": {
   "display_name": "Python 3",
   "language": "python",
   "name": "python3"
  },
  "language_info": {
   "codemirror_mode": {
    "name": "ipython",
    "version": 3
   },
   "file_extension": ".py",
   "mimetype": "text/x-python",
   "name": "python",
   "nbconvert_exporter": "python",
   "pygments_lexer": "ipython3",
   "version": "3.6.5"
  },
  "toc": {
   "base_numbering": 1,
   "nav_menu": {},
   "number_sections": true,
   "sideBar": true,
   "skip_h1_title": false,
   "title_cell": "Table of Contents",
   "title_sidebar": "Contents",
   "toc_cell": false,
   "toc_position": {},
   "toc_section_display": true,
   "toc_window_display": false
  }
 },
 "nbformat": 4,
 "nbformat_minor": 2
}
